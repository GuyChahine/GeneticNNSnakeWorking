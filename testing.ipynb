{
 "cells": [
  {
   "cell_type": "code",
   "execution_count": 1,
   "metadata": {},
   "outputs": [],
   "source": [
    "import numpy as np"
   ]
  },
  {
   "cell_type": "code",
   "execution_count": 226,
   "metadata": {},
   "outputs": [],
   "source": [
    "from snake import Snake\n",
    "from ai_architecture import NeuralNetwork, get_input, fitness\n",
    "from os.path import exists\n",
    "from multiprocessing import Pool\n",
    "from read_write import read_last_generation, write_information, write_last_generation\n",
    "from random import randint"
   ]
  },
  {
   "cell_type": "code",
   "execution_count": 3,
   "metadata": {},
   "outputs": [],
   "source": [
    "from main import NN_playthegame"
   ]
  },
  {
   "cell_type": "code",
   "execution_count": 285,
   "metadata": {},
   "outputs": [],
   "source": [
    "a = np.array([np.array([1,2]), np.array([1,2])])"
   ]
  },
  {
   "cell_type": "code",
   "execution_count": 374,
   "metadata": {},
   "outputs": [],
   "source": [
    "def mutate_weights(weights: list[dict]):\n",
    "    \n",
    "    def crossover(icouple: list[int, int]):\n",
    "        new_weights = {}\n",
    "        for layer in layers_name:\n",
    "            new_weights[layer] = {\n",
    "                'weight': np.where(\n",
    "                        np.random.randint(0,2,parents[icouple[0]][layer]['weight'].shape).astype(bool),\n",
    "                        parents[icouple[0]][layer]['weight'],\n",
    "                        parents[icouple[1]][layer]['weight'],\n",
    "                    ),\n",
    "                'bias': np.where(\n",
    "                        np.random.randint(0,2,parents[icouple[0]][layer]['bias'].shape).astype(bool),\n",
    "                        parents[icouple[0]][layer]['bias'],\n",
    "                        parents[icouple[1]][layer]['bias'],\n",
    "                    ),\n",
    "                'activation': parents[icouple[0]][layer]['activation'],\n",
    "            }\n",
    "        return new_weights\n",
    "    \n",
    "    def mutation(child):\n",
    "        MUTATION_INTENSITY = 0.1\n",
    "        new_weights = {}\n",
    "        for layer in layers_name:\n",
    "            new_weights[layer] = {    \n",
    "                'weight': child[layer]['weight'] + np.random.uniform(\n",
    "                        -MUTATION_INTENSITY, MUTATION_INTENSITY,\n",
    "                        child[layer]['weight'].shape,\n",
    "                    ),\n",
    "                'bias': child[layer]['bias'] + np.random.uniform(\n",
    "                        -MUTATION_INTENSITY, MUTATION_INTENSITY,\n",
    "                        child[layer]['bias'].shape,\n",
    "                    ),\n",
    "                'activation': child[layer]['activation'],\n",
    "            }\n",
    "        return new_weights\n",
    "    \n",
    "    parents = weights[:weights.shape[0]//2]\n",
    "    parent_pool = np.arange(parents.shape[0])\n",
    "    np.random.shuffle(parent_pool)\n",
    "    parent_pool = parent_pool.reshape(-1,2)\n",
    "    layers_name = [layer for layer in parents[0].keys()]\n",
    "    childs = list(map(crossover, parent_pool))\n",
    "    mutated_childs = list(map(mutation, childs))\n",
    "    return np.concatenate([parents, childs, mutated_childs])\n",
    "    "
   ]
  },
  {
   "cell_type": "code",
   "execution_count": 1,
   "metadata": {},
   "outputs": [],
   "source": [
    "from read_write import read_information"
   ]
  },
  {
   "cell_type": "code",
   "execution_count": 16,
   "metadata": {},
   "outputs": [
    {
     "data": {
      "text/plain": [
       "array([1., 1., 4., 1., 4., 4., 1., 1., 4., 4., 1., 1., 1., 4., 4., 4., 1.,\n",
       "       4., 1., 4., 1., 1., 4., 4., 4., 1., 1., 1., 4., 1., 4., 1., 1., 4.,\n",
       "       1., 1., 1., 1., 4., 1., 1., 4., 1., 1., 1., 1., 1., 4., 1., 4., 1.,\n",
       "       4., 1., 1., 4., 1., 1., 1., 4., 1., 4.])"
      ]
     },
     "execution_count": 16,
     "metadata": {},
     "output_type": "execute_result"
    }
   ],
   "source": []
  },
  {
   "cell_type": "code",
   "execution_count": 389,
   "metadata": {},
   "outputs": [
    {
     "ename": "TypeError",
     "evalue": "'abc' is an invalid keyword argument for print()",
     "output_type": "error",
     "traceback": [
      "\u001b[1;31m---------------------------------------------------------------------------\u001b[0m",
      "\u001b[1;31mTypeError\u001b[0m                                 Traceback (most recent call last)",
      "\u001b[1;32mc:\\Users\\Guy\\Desktop\\GeneticNNSnake2\\testing.ipynb Cellule 7\u001b[0m in \u001b[0;36m<cell line: 4>\u001b[1;34m()\u001b[0m\n\u001b[0;32m      <a href='vscode-notebook-cell:/c%3A/Users/Guy/Desktop/GeneticNNSnake2/testing.ipynb#Y140sZmlsZQ%3D%3D?line=0'>1</a>\u001b[0m \u001b[39mdef\u001b[39;00m \u001b[39mtest\u001b[39m(\u001b[39m*\u001b[39m\u001b[39m*\u001b[39mkwargs):\n\u001b[0;32m      <a href='vscode-notebook-cell:/c%3A/Users/Guy/Desktop/GeneticNNSnake2/testing.ipynb#Y140sZmlsZQ%3D%3D?line=1'>2</a>\u001b[0m     \u001b[39mprint\u001b[39m(\u001b[39m*\u001b[39m\u001b[39m*\u001b[39mkwargs)\n\u001b[1;32m----> <a href='vscode-notebook-cell:/c%3A/Users/Guy/Desktop/GeneticNNSnake2/testing.ipynb#Y140sZmlsZQ%3D%3D?line=3'>4</a>\u001b[0m test(abc\u001b[39m=\u001b[39;49m\u001b[39m1\u001b[39;49m, bbb\u001b[39m=\u001b[39;49m\u001b[39m2\u001b[39;49m)\n",
      "\u001b[1;32mc:\\Users\\Guy\\Desktop\\GeneticNNSnake2\\testing.ipynb Cellule 7\u001b[0m in \u001b[0;36mtest\u001b[1;34m(**kwargs)\u001b[0m\n\u001b[0;32m      <a href='vscode-notebook-cell:/c%3A/Users/Guy/Desktop/GeneticNNSnake2/testing.ipynb#Y140sZmlsZQ%3D%3D?line=0'>1</a>\u001b[0m \u001b[39mdef\u001b[39;00m \u001b[39mtest\u001b[39m(\u001b[39m*\u001b[39m\u001b[39m*\u001b[39mkwargs):\n\u001b[1;32m----> <a href='vscode-notebook-cell:/c%3A/Users/Guy/Desktop/GeneticNNSnake2/testing.ipynb#Y140sZmlsZQ%3D%3D?line=1'>2</a>\u001b[0m     \u001b[39mprint\u001b[39m(\u001b[39m*\u001b[39m\u001b[39m*\u001b[39mkwargs)\n",
      "\u001b[1;31mTypeError\u001b[0m: 'abc' is an invalid keyword argument for print()"
     ]
    }
   ],
   "source": [
    "def test(**kwargs):\n",
    "    print(**kwargs)\n",
    "    \n",
    "test(abc=1, bbb=2)"
   ]
  },
  {
   "cell_type": "code",
   "execution_count": 394,
   "metadata": {},
   "outputs": [
    {
     "name": "stdout",
     "output_type": "stream",
     "text": [
      "abc : 123\n"
     ]
    }
   ],
   "source": [
    "print(\"'abc' : 123\".replace(\"'\", \"\"))"
   ]
  },
  {
   "cell_type": "code",
   "execution_count": null,
   "metadata": {},
   "outputs": [],
   "source": []
  },
  {
   "cell_type": "code",
   "execution_count": 373,
   "metadata": {},
   "outputs": [],
   "source": [
    "NB_AGENT = 4\n",
    "LAYERS = [\n",
    "    (2,\"\"),\n",
    "    #(16,\"relu\"),\n",
    "    (4,\"relu\"),\n",
    "    (1,\"sigmoid\"),\n",
    "]\n",
    "weights = np.array([NeuralNetwork().create_weights(LAYERS) for _ in range(NB_AGENT)])"
   ]
  },
  {
   "cell_type": "code",
   "execution_count": 368,
   "metadata": {},
   "outputs": [],
   "source": [
    "c = mutate_weights(weights)"
   ]
  },
  {
   "cell_type": "code",
   "execution_count": 267,
   "metadata": {},
   "outputs": [
    {
     "name": "stdout",
     "output_type": "stream",
     "text": [
      "7.95 ms ± 107 µs per loop (mean ± std. dev. of 7 runs, 100 loops each)\n"
     ]
    }
   ],
   "source": [
    "%%timeit\n",
    "c = mutate_weights(weights)"
   ]
  },
  {
   "cell_type": "code",
   "execution_count": null,
   "metadata": {},
   "outputs": [],
   "source": []
  },
  {
   "cell_type": "code",
   "execution_count": null,
   "metadata": {},
   "outputs": [],
   "source": []
  },
  {
   "cell_type": "code",
   "execution_count": null,
   "metadata": {},
   "outputs": [],
   "source": []
  },
  {
   "cell_type": "code",
   "execution_count": null,
   "metadata": {},
   "outputs": [],
   "source": []
  },
  {
   "cell_type": "code",
   "execution_count": null,
   "metadata": {},
   "outputs": [],
   "source": []
  },
  {
   "cell_type": "code",
   "execution_count": null,
   "metadata": {},
   "outputs": [],
   "source": []
  },
  {
   "cell_type": "code",
   "execution_count": null,
   "metadata": {},
   "outputs": [],
   "source": []
  },
  {
   "cell_type": "code",
   "execution_count": 264,
   "metadata": {},
   "outputs": [],
   "source": [
    "import pickle\n",
    "import json"
   ]
  },
  {
   "cell_type": "code",
   "execution_count": 265,
   "metadata": {},
   "outputs": [],
   "source": [
    "with open(\"test.pkl\", \"wb\") as f:\n",
    "    pickle.dump(weights, f)"
   ]
  },
  {
   "cell_type": "code",
   "execution_count": 266,
   "metadata": {},
   "outputs": [],
   "source": [
    "with open(\"test.pkl\", \"rb\") as f:\n",
    "    w = pickle.load(f)"
   ]
  }
 ],
 "metadata": {
  "kernelspec": {
   "display_name": "Python 3.10.4 64-bit",
   "language": "python",
   "name": "python3"
  },
  "language_info": {
   "codemirror_mode": {
    "name": "ipython",
    "version": 3
   },
   "file_extension": ".py",
   "mimetype": "text/x-python",
   "name": "python",
   "nbconvert_exporter": "python",
   "pygments_lexer": "ipython3",
   "version": "3.10.4"
  },
  "orig_nbformat": 4,
  "vscode": {
   "interpreter": {
    "hash": "0986a705e0e9c41aedb0cb54b09a403593fe0a5bc8bc18fb428b786d741665bc"
   }
  }
 },
 "nbformat": 4,
 "nbformat_minor": 2
}
